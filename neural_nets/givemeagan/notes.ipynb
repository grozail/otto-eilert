{
 "cells": [
  {
   "cell_type": "code",
   "execution_count": 2,
   "metadata": {
    "collapsed": true
   },
   "outputs": [],
   "source": [
    "import torch\n",
    "import torch.nn as tnn\n",
    "import torch.autograd as agrad"
   ]
  },
  {
   "cell_type": "code",
   "execution_count": 3,
   "metadata": {},
   "outputs": [],
   "source": [
    "m = tnn.ConvTranspose2d(100, 64, 4, 1, 0, bias=False)\n",
    "inp = agrad.Variable(torch.randn(1, 100, 1, 1))"
   ]
  },
  {
   "cell_type": "code",
   "execution_count": 4,
   "metadata": {},
   "outputs": [
    {
     "name": "stdout",
     "output_type": "stream",
     "text": [
      "first\t torch.Size([1, 64, 4, 4])\nsecond\t torch.Size([1, 64, 8, 8])\nthird\t torch.Size([1, 32, 20, 20])\n"
     ]
    }
   ],
   "source": [
    "output = m(inp)\n",
    "print('first\\t', output.size())\n",
    "m1 = tnn.ConvTranspose2d(64, 64, 4, 2, 1, bias=False)\n",
    "output = m1(output)\n",
    "print('second\\t', output.size())\n",
    "m2 = tnn.ConvTranspose2d(64, 32, 5, 3, 3, bias=False)\n",
    "output = m2(output)\n",
    "print('third\\t', output.size())\n",
    "\n",
    "\n"
   ]
  },
  {
   "cell_type": "code",
   "execution_count": 5,
   "metadata": {},
   "outputs": [
    {
     "name": "stdout",
     "output_type": "stream",
     "text": [
      "torch.Size([1, 133, 1, 1])\n"
     ]
    }
   ],
   "source": [
    "c = agrad.Variable(torch.randn(1, 33, 1, 1))\n",
    "a = torch.cat((inp, c), 1)\n",
    "print(a.size())"
   ]
  },
  {
   "cell_type": "code",
   "execution_count": null,
   "metadata": {},
   "outputs": [],
   "source": []
  }
 ],
 "metadata": {
  "kernelspec": {
   "display_name": "Python 2",
   "language": "python",
   "name": "python2"
  },
  "language_info": {
   "codemirror_mode": {
    "name": "ipython",
    "version": 2
   },
   "file_extension": ".py",
   "mimetype": "text/x-python",
   "name": "python",
   "nbconvert_exporter": "python",
   "pygments_lexer": "ipython2",
   "version": "2.7.6"
  }
 },
 "nbformat": 4,
 "nbformat_minor": 0
}
