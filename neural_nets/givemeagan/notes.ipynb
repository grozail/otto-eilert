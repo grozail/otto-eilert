{
 "cells": [
  {
   "cell_type": "code",
   "execution_count": 5,
   "metadata": {
    "collapsed": true
   },
   "outputs": [],
   "source": [
    "import torch\n",
    "import torch.nn as tnn\n",
    "import torch.cuda\n",
    "from torch.autograd import Variable\n",
    "import torch.optim as optim\n",
    "import torch.utils.data\n",
    "import torchvision.utils as visutils\n",
    "from torchvision import transforms, datasets\n",
    "# import torch.backends.cudnn as cudnn"
   ]
  },
  {
   "cell_type": "code",
   "execution_count": 3,
   "metadata": {},
   "outputs": [],
   "source": [
    "m = tnn.ConvTranspose2d(100, 64, 4, 1, 0, bias=False)\n",
    "inp = agrad.Variable(torch.randn(1, 100, 1, 1))"
   ]
  },
  {
   "cell_type": "code",
   "execution_count": 4,
   "metadata": {},
   "outputs": [
    {
     "name": "stdout",
     "output_type": "stream",
     "text": [
      "first\t torch.Size([1, 64, 4, 4])\nsecond\t torch.Size([1, 64, 8, 8])\nthird\t torch.Size([1, 32, 20, 20])\n"
     ]
    }
   ],
   "source": [
    "output = m(inp)\n",
    "print('first\\t', output.size())\n",
    "m1 = tnn.ConvTranspose2d(64, 64, 4, 2, 1, bias=False)\n",
    "output = m1(output)\n",
    "print('second\\t', output.size())\n",
    "m2 = tnn.ConvTranspose2d(64, 32, 5, 3, 3, bias=False)\n",
    "output = m2(output)\n",
    "print('third\\t', output.size())\n",
    "\n",
    "\n"
   ]
  },
  {
   "cell_type": "code",
   "execution_count": 5,
   "metadata": {},
   "outputs": [
    {
     "name": "stdout",
     "output_type": "stream",
     "text": [
      "torch.Size([1, 133, 1, 1])\n"
     ]
    }
   ],
   "source": [
    "c = agrad.Variable(torch.randn(1, 33, 1, 1))\n",
    "a = torch.cat((inp, c), 1)\n",
    "print(a.size())"
   ]
  },
  {
   "cell_type": "code",
   "execution_count": 9,
   "metadata": {},
   "outputs": [
    {
     "name": "stdout",
     "output_type": "stream",
     "text": [
      "torch.Size([10, 1, 1, 1])\ntorch.Size([10])\n"
     ]
    }
   ],
   "source": [
    "n_features = 64\n",
    "D_in = agrad.Variable(torch.randn(10, 1, 32, 32))\n",
    "D_net = tnn.Sequential(\n",
    "            # input signals 1 x 32 x 32\n",
    "            tnn.Conv2d(1, n_features, 4, 2, 1, bias=False),\n",
    "            # n_features x 16 x 16\n",
    "            tnn.Conv2d(n_features, n_features * 2, 4, 2, 1, bias=False),\n",
    "            # n_features * 2 x 8 x 8\n",
    "            tnn.Conv2d(n_features * 2, n_features * 4, 4, 2, 1, bias=False),\n",
    "            # n_features * 4 x 4 x 4\n",
    "            tnn.Conv2d(n_features * 4, 1, 4, 1, 0, bias=False),\n",
    "            tnn.Sigmoid(),\n",
    "        )\n",
    "D_out = D_net(D_in)\n",
    "print(D_out.size())\n",
    "print(D_out.view(-1, 1).squeeze(1).size())"
   ]
  },
  {
   "cell_type": "code",
   "execution_count": 19,
   "metadata": {
    "collapsed": false
   },
   "outputs": [
    {
     "name": "stdout",
     "output_type": "stream",
     "text": [
      "\n(0 ,.,.) = \n   4\n   4\n   4\n   4\n   0\n   0\n   2\n   0\n   2\n   8\n   0\n   0\n   6\n   0\n   0\n   2\n   0\n   0\n   8\n   0\n   0\n   6\n   0\n   0\n   2\n   0\n   0\n   8\n\n(1 ,.,.) = \n   0\n   0\n   2\n   0\n   3\n   0\n   0\n   0\n   4\n   0\n   0\n   8\n   0\n   0\n   8\n   0\n   0\n   0\n   0\n   0\n   2\n   0\n   4\n   6\n   0\n   0\n   2\n   0\n\n(2 ,.,.) = \n   0\n   6\n   0\n   0\n   2\n   0\n   6\n   8\n   0\n   0\n   6\n   0\n   0\n   2\n   0\n   0\n   6\n   0\n   0\n   4\n   0\n   0\n   4\n   0\n   0\n   6\n   0\n   0\n\n(3 ,.,.) = \n   4\n   0\n   0\n   0\n   0\n   7\n   6\n   0\n   0\n   8\n   0\n   0\n   6\n   0\n   0\n   4\n   0\n   0\n   4\n   0\n   0\n   6\n   0\n   0\n   2\n   0\n   9\n   4\n\n(4 ,.,.) = \n   0\n   0\n   2\n   0\n   0\n   6\n   0\n   0\n   2\n   0\n   0\n   0\n   0\n   0\n   2\n   0\n   0\n   6\n   0\n   0\n   0\n   0\n   0\n   0\n   0\n   0\n   0\n   0\n\n(5 ,.,.) = \n   0\n   0\n   0\n   0\n   0\n   0\n   0\n   0\n   0\n   0\n   0\n   0\n   0\n   0\n   0\n   0\n   0\n   0\n   0\n   0\n   0\n   0\n   0\n   0\n   0\n   0\n   0\n   0\n\n(6 ,.,.) = \n   0\n   0\n   0\n   0\n   0\n   0\n   0\n   0\n   0\n   0\n   0\n   0\n   0\n   0\n   0\n   0\n   0\n   0\n   0\n   0\n   0\n   0\n   0\n   0\n   4\n   9\n   6\n   6\n\n(7 ,.,.) = \n   6\n   6\n   4\n   4\n   2\n   0\n   4\n   4\n   6\n   2\n   4\n   4\n   2\n   8\n   0\n   8\n   6\n   8\n   6\n   2\n   6\n   0\n   4\n   4\n   0\n   4\n   4\n   4\n\n(8 ,.,.) = \n   6\n   5\n   4\n   8\n   6\n   4\n   4\n   2\n   4\n   4\n   4\n   6\n   2\n   4\n   4\n   0\n   0\n   2\n   0\n   0\n   4\n   4\n   6\n   2\n   4\n   4\n   2\n   0\n\n(9 ,.,.) = \n   4\n   4\n   0\n   8\n   4\n   7\n   2\n   2\n   0\n   0\n   0\n   4\n   4\n   4\n   6\n   6\n   2\n   8\n   1\n   8\n   0\n   6\n   0\n   4\n   4\n   6\n   2\n   4\n\n(10,.,.) = \n   4\n   2\n   0\n   4\n   4\n   0\n   8\n   4\n   4\n   2\n   0\n   4\n   4\n   0\n   4\n   4\n   4\n   4\n   7\n   0\n   6\n   0\n   4\n   4\n   0\n   4\n   4\n   4\n\n(11,.,.) = \n   6\n   1\n   2\n   2\n   0\n   0\n   2\n   6\n   0\n   0\n   4\n   6\n   2\n   4\n   4\n   2\n   8\n   0\n   8\n   6\n   8\n   6\n   2\n   6\n   4\n   0\n   4\n   0\n\n(12,.,.) = \n   4\n   4\n   4\n   6\n   5\n   4\n   8\n   6\n   4\n   4\n   2\n   0\n   4\n   4\n   6\n   2\n   4\n   4\n   6\n   0\n   8\n   3\n   7\n   4\n   4\n   1\n   6\n   5\n\n(13,.,.) = \n   0\n   3\n   8\n   8\n   0\n   0\n   4\n   0\n   0\n   2\n   0\n   0\n   8\n   0\n   0\n   2\n   0\n   0\n   4\n   0\n   0\n   4\n   0\n   0\n   8\n   0\n   0\n   2\n\n(14,.,.) = \n   0\n   0\n   0\n   0\n   0\n   0\n   0\n   0\n   2\n   0\n   0\n   0\n   0\n   0\n   6\n   0\n   0\n   4\n   0\n   0\n   4\n   0\n   0\n   4\n   0\n   0\n   0\n   0\n\n(15,.,.) = \n   0\n   0\n   0\n   0\n   0\n   0\n   0\n   6\n   0\n   0\n   4\n   0\n   0\n   2\n   0\n   0\n   4\n   0\n   0\n   6\n   0\n   0\n   8\n   0\n   0\n   8\n   0\n   0\n[torch.LongTensor of size 16x28x1]\n\n\n\nColumns 0 to 12 \n    4     4     4     4     0     0     2     0     2     8     0     0     6\n    0     0     2     0     3     0     0     0     4     0     0     8     0\n    0     6     0     0     2     0     6     8     0     0     6     0     0\n    4     0     0     0     0     7     6     0     0     8     0     0     6\n    0     0     2     0     0     6     0     0     2     0     0     0     0\n    0     0     0     0     0     0     0     0     0     0     0     0     0\n    0     0     0     0     0     0     0     0     0     0     0     0     0\n    6     6     4     4     2     0     4     4     6     2     4     4     2\n    6     5     4     8     6     4     4     2     4     4     4     6     2\n    4     4     0     8     4     7     2     2     0     0     0     4     4\n    4     2     0     4     4     0     8     4     4     2     0     4     4\n    6     1     2     2     0     0     2     6     0     0     4     6     2\n    4     4     4     6     5     4     8     6     4     4     2     0     4\n    0     3     8     8     0     0     4     0     0     2     0     0     8\n    0     0     0     0     0     0     0     0     2     0     0     0     0\n    0     0     0     0     0     0     0     6     0     0     4     0     0\n\nColumns 13 to 25 \n    0     0     2     0     0     8     0     0     6     0     0     2     0\n    0     8     0     0     0     0     0     2     0     4     6     0     0\n    2     0     0     6     0     0     4     0     0     4     0     0     6\n    0     0     4     0     0     4     0     0     6     0     0     2     0\n    0     2     0     0     6     0     0     0     0     0     0     0     0\n    0     0     0     0     0     0     0     0     0     0     0     0     0\n    0     0     0     0     0     0     0     0     0     0     0     4     9\n    8     0     8     6     8     6     2     6     0     4     4     0     4\n    4     4     0     0     2     0     0     4     4     6     2     4     4\n    4     6     6     2     8     1     8     0     6     0     4     4     6\n    0     4     4     4     4     7     0     6     0     4     4     0     4\n    4     4     2     8     0     8     6     8     6     2     6     4     0\n    4     6     2     4     4     6     0     8     3     7     4     4     1\n    0     0     2     0     0     4     0     0     4     0     0     8     0\n    0     6     0     0     4     0     0     4     0     0     4     0     0\n    2     0     0     4     0     0     6     0     0     8     0     0     8\n\nColumns 26 to 27 \n    0     8\n    2     0\n    0     0\n    9     4\n    0     0\n    0     0\n    6     6\n    4     4\n    2     0\n    2     4\n    4     4\n    4     0\n    6     5\n    0     2\n    0     0\n    0     0\n[torch.LongTensor of size 16x28]\n\n\n(0 ,.,.) = \n   0   0   0  ...    0   0   0\n   0   0   0  ...    0   0   0\n   0   0   0  ...    0   0   0\n     ...       ⋱       ...    \n   1   0   0  ...    0   0   0\n   1   0   0  ...    0   0   0\n   0   0   0  ...    0   1   0\n\n(1 ,.,.) = \n   1   0   0  ...    0   0   0\n   1   0   0  ...    0   0   0\n   0   0   1  ...    0   0   0\n     ...       ⋱       ...    \n   1   0   0  ...    0   0   0\n   0   0   1  ...    0   0   0\n   1   0   0  ...    0   0   0\n\n(2 ,.,.) = \n   1   0   0  ...    0   0   0\n   0   0   0  ...    0   0   0\n   1   0   0  ...    0   0   0\n     ...       ⋱       ...    \n   0   0   0  ...    0   0   0\n   1   0   0  ...    0   0   0\n   1   0   0  ...    0   0   0\n...\n\n(13,.,.) = \n   1   0   0  ...    0   0   0\n   0   0   0  ...    0   0   0\n   0   0   0  ...    0   1   0\n     ...       ⋱       ...    \n   1   0   0  ...    0   0   0\n   1   0   0  ...    0   0   0\n   0   0   1  ...    0   0   0\n\n(14,.,.) = \n   1   0   0  ...    0   0   0\n   1   0   0  ...    0   0   0\n   1   0   0  ...    0   0   0\n     ...       ⋱       ...    \n   1   0   0  ...    0   0   0\n   1   0   0  ...    0   0   0\n   1   0   0  ...    0   0   0\n\n(15,.,.) = \n   1   0   0  ...    0   0   0\n   1   0   0  ...    0   0   0\n   1   0   0  ...    0   0   0\n     ...       ⋱       ...    \n   0   0   0  ...    0   1   0\n   1   0   0  ...    0   0   0\n   1   0   0  ...    0   0   0\n[torch.FloatTensor of size 16x28x10]\n\n"
     ]
    }
   ],
   "source": [
    "def newconcat(images, labels):\n",
    "    y_onehot = torch.FloatTensor(args.batchSize, 5)\n",
    "    try:\n",
    "        y_onehot = y_onehot.zero_().scatter_(1, labels.unsqueeze(1)-1, 1)\n",
    "    except:\n",
    "        y_onehot = y_onehot.zero_().scatter_(1, labels-1, 1)\n",
    "    y_onehot = torch.unsqueeze(torch.unsqueeze(y_onehot, 2), 3).expand(args.batchSize, 5, args.imageSize, args.imageSize)\n",
    "\n",
    "    return torch.cat((images, y_onehot),1)\n"
   ]
  },
  {
   "cell_type": "code",
   "execution_count": null,
   "metadata": {
    "collapsed": false
   },
   "outputs": [
    {
     "name": "stdout",
     "output_type": "stream",
     "text": [
      "\n(0 ,.,.) = \n   4\n   4\n   4\n   4\n   0\n   0\n   2\n   0\n   2\n   8\n   0\n   0\n   6\n   0\n   0\n   2\n   0\n   0\n   8\n   0\n   0\n   6\n   0\n   0\n   2\n   0\n   0\n   8\n\n(1 ,.,.) = \n   0\n   0\n   2\n   0\n   3\n   0\n   0\n   0\n   4\n   0\n   0\n   8\n   0\n   0\n   8\n   0\n   0\n   0\n   0\n   0\n   2\n   0\n   4\n   6\n   0\n   0\n   2\n   0\n\n(2 ,.,.) = \n   0\n   6\n   0\n   0\n   2\n   0\n   6\n   8\n   0\n   0\n   6\n   0\n   0\n   2\n   0\n   0\n   6\n   0\n   0\n   4\n   0\n   0\n   4\n   0\n   0\n   6\n   0\n   0\n\n(3 ,.,.) = \n   4\n   0\n   0\n   0\n   0\n   7\n   6\n   0\n   0\n   8\n   0\n   0\n   6\n   0\n   0\n   4\n   0\n   0\n   4\n   0\n   0\n   6\n   0\n   0\n   2\n   0\n   9\n   4\n\n(4 ,.,.) = \n   0\n   0\n   2\n   0\n   0\n   6\n   0\n   0\n   2\n   0\n   0\n   0\n   0\n   0\n   2\n   0\n   0\n   6\n   0\n   0\n   0\n   0\n   0\n   0\n   0\n   0\n   0\n   0\n\n(5 ,.,.) = \n   0\n   0\n   0\n   0\n   0\n   0\n   0\n   0\n   0\n   0\n   0\n   0\n   0\n   0\n   0\n   0\n   0\n   0\n   0\n   0\n   0\n   0\n   0\n   0\n   0\n   0\n   0\n   0\n\n(6 ,.,.) = \n   0\n   0\n   0\n   0\n   0\n   0\n   0\n   0\n   0\n   0\n   0\n   0\n   0\n   0\n   0\n   0\n   0\n   0\n   0\n   0\n   0\n   0\n   0\n   0\n   4\n   9\n   6\n   6\n\n(7 ,.,.) = \n   6\n   6\n   4\n   4\n   2\n   0\n   4\n   4\n   6\n   2\n   4\n   4\n   2\n   8\n   0\n   8\n   6\n   8\n   6\n   2\n   6\n   0\n   4\n   4\n   0\n   4\n   4\n   4\n\n(8 ,.,.) = \n   6\n   5\n   4\n   8\n   6\n   4\n   4\n   2\n   4\n   4\n   4\n   6\n   2\n   4\n   4\n   0\n   0\n   2\n   0\n   0\n   4\n   4\n   6\n   2\n   4\n   4\n   2\n   0\n\n(9 ,.,.) = \n   4\n   4\n   0\n   8\n   4\n   7\n   2\n   2\n   0\n   0\n   0\n   4\n   4\n   4\n   6\n   6\n   2\n   8\n   1\n   8\n   0\n   6\n   0\n   4\n   4\n   6\n   2\n   4\n\n(10,.,.) = \n   4\n   2\n   0\n   4\n   4\n   0\n   8\n   4\n   4\n   2\n   0\n   4\n   4\n   0\n   4\n   4\n   4\n   4\n   7\n   0\n   6\n   0\n   4\n   4\n   0\n   4\n   4\n   4\n\n(11,.,.) = \n   6\n   1\n   2\n   2\n   0\n   0\n   2\n   6\n   0\n   0\n   4\n   6\n   2\n   4\n   4\n   2\n   8\n   0\n   8\n   6\n   8\n   6\n   2\n   6\n   4\n   0\n   4\n   0\n\n(12,.,.) = \n   4\n   4\n   4\n   6\n   5\n   4\n   8\n   6\n   4\n   4\n   2\n   0\n   4\n   4\n   6\n   2\n   4\n   4\n   6\n   0\n   8\n   3\n   7\n   4\n   4\n   1\n   6\n   5\n\n(13,.,.) = \n   0\n   3\n   8\n   8\n   0\n   0\n   4\n   0\n   0\n   2\n   0\n   0\n   8\n   0\n   0\n   2\n   0\n   0\n   4\n   0\n   0\n   4\n   0\n   0\n   8\n   0\n   0\n   2\n\n(14,.,.) = \n   0\n   0\n   0\n   0\n   0\n   0\n   0\n   0\n   2\n   0\n   0\n   0\n   0\n   0\n   6\n   0\n   0\n   4\n   0\n   0\n   4\n   0\n   0\n   4\n   0\n   0\n   0\n   0\n\n(15,.,.) = \n   0\n   0\n   0\n   0\n   0\n   0\n   0\n   6\n   0\n   0\n   4\n   0\n   0\n   2\n   0\n   0\n   4\n   0\n   0\n   6\n   0\n   0\n   8\n   0\n   0\n   8\n   0\n   0\n[torch.LongTensor of size 16x28x1]\n\n\n\nColumns 0 to 12 \n    4     4     4     4     0     0     2     0     2     8     0     0     6\n    0     0     2     0     3     0     0     0     4     0     0     8     0\n    0     6     0     0     2     0     6     8     0     0     6     0     0\n    4     0     0     0     0     7     6     0     0     8     0     0     6\n    0     0     2     0     0     6     0     0     2     0     0     0     0\n    0     0     0     0     0     0     0     0     0     0     0     0     0\n    0     0     0     0     0     0     0     0     0     0     0     0     0\n    6     6     4     4     2     0     4     4     6     2     4     4     2\n    6     5     4     8     6     4     4     2     4     4     4     6     2\n    4     4     0     8     4     7     2     2     0     0     0     4     4\n    4     2     0     4     4     0     8     4     4     2     0     4     4\n    6     1     2     2     0     0     2     6     0     0     4     6     2\n    4     4     4     6     5     4     8     6     4     4     2     0     4\n    0     3     8     8     0     0     4     0     0     2     0     0     8\n    0     0     0     0     0     0     0     0     2     0     0     0     0\n    0     0     0     0     0     0     0     6     0     0     4     0     0\n\nColumns 13 to 25 \n    0     0     2     0     0     8     0     0     6     0     0     2     0\n    0     8     0     0     0     0     0     2     0     4     6     0     0\n    2     0     0     6     0     0     4     0     0     4     0     0     6\n    0     0     4     0     0     4     0     0     6     0     0     2     0\n    0     2     0     0     6     0     0     0     0     0     0     0     0\n    0     0     0     0     0     0     0     0     0     0     0     0     0\n    0     0     0     0     0     0     0     0     0     0     0     4     9\n    8     0     8     6     8     6     2     6     0     4     4     0     4\n    4     4     0     0     2     0     0     4     4     6     2     4     4\n    4     6     6     2     8     1     8     0     6     0     4     4     6\n    0     4     4     4     4     7     0     6     0     4     4     0     4\n    4     4     2     8     0     8     6     8     6     2     6     4     0\n    4     6     2     4     4     6     0     8     3     7     4     4     1\n    0     0     2     0     0     4     0     0     4     0     0     8     0\n    0     6     0     0     4     0     0     4     0     0     4     0     0\n    2     0     0     4     0     0     6     0     0     8     0     0     8\n\nColumns 26 to 27 \n    0     8\n    2     0\n    0     0\n    9     4\n    0     0\n    0     0\n    6     6\n    4     4\n    2     0\n    2     4\n    4     4\n    4     0\n    6     5\n    0     2\n    0     0\n    0     0\n[torch.LongTensor of size 16x28]\n\n\n(0 ,.,.) = \n   0   0   0  ...    0   0   0\n   0   0   0  ...    0   0   0\n   0   0   0  ...    0   0   0\n     ...       ⋱       ...    \n   1   0   0  ...    0   0   0\n   1   0   0  ...    0   0   0\n   0   0   0  ...    0   1   0\n\n(1 ,.,.) = \n   1   0   0  ...    0   0   0\n   1   0   0  ...    0   0   0\n   0   0   1  ...    0   0   0\n     ...       ⋱       ...    \n   1   0   0  ...    0   0   0\n   0   0   1  ...    0   0   0\n   1   0   0  ...    0   0   0\n\n(2 ,.,.) = \n   1   0   0  ...    0   0   0\n   0   0   0  ...    0   0   0\n   1   0   0  ...    0   0   0\n     ...       ⋱       ...    \n   0   0   0  ...    0   0   0\n   1   0   0  ...    0   0   0\n   1   0   0  ...    0   0   0\n...\n\n(13,.,.) = \n   1   0   0  ...    0   0   0\n   0   0   0  ...    0   0   0\n   0   0   0  ...    0   1   0\n     ...       ⋱       ...    \n   1   0   0  ...    0   0   0\n   1   0   0  ...    0   0   0\n   0   0   1  ...    0   0   0\n\n(14,.,.) = \n   1   0   0  ...    0   0   0\n   1   0   0  ...    0   0   0\n   1   0   0  ...    0   0   0\n     ...       ⋱       ...    \n   1   0   0  ...    0   0   0\n   1   0   0  ...    0   0   0\n   1   0   0  ...    0   0   0\n\n(15,.,.) = \n   1   0   0  ...    0   0   0\n   1   0   0  ...    0   0   0\n   1   0   0  ...    0   0   0\n     ...       ⋱       ...    \n   0   0   0  ...    0   1   0\n   1   0   0  ...    0   0   0\n   1   0   0  ...    0   0   0\n[torch.FloatTensor of size 16x28x10]\n\n"
     ]
    }
   ],
   "source": [
    "batch_size = 32\n",
    "cyrilic_dataset = datasets.ImageFolder(root='/opt/ProjectsPy/0_DATASETS/Cyrillic-small',\n",
    "                                       transform=transforms.ToTensor())\n",
    "dataloader = torch.utils.data.DataLoader(cyrilic_dataset, batch_size, shuffle=True, num_workers=2)\n",
    "iterator = enumerate(dataloader)\n",
    "i, data = iterator.__next__()\n",
    "print(data[0].size())\n"
   ]
  },
  {
   "cell_type": "code",
   "execution_count": null,
   "metadata": {},
   "outputs": [],
   "source": []
  }
 ],
 "metadata": {
  "kernelspec": {
   "display_name": "Python 2",
   "language": "python",
   "name": "python2"
  },
  "language_info": {
   "codemirror_mode": {
    "name": "ipython",
    "version": 2
   },
   "file_extension": ".py",
   "mimetype": "text/x-python",
   "name": "python",
   "nbconvert_exporter": "python",
   "pygments_lexer": "ipython2",
   "version": "2.7.6"
  }
 },
 "nbformat": 4,
 "nbformat_minor": 0
}
