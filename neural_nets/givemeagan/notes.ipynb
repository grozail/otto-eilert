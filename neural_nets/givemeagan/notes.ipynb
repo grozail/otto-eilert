{
 "cells": [
  {
   "cell_type": "code",
   "execution_count": 2,
   "metadata": {
    "collapsed": true
   },
   "outputs": [],
   "source": [
    "import torch\n",
    "import torch.nn as tnn\n",
    "import torch.autograd as agrad"
   ]
  },
  {
   "cell_type": "code",
   "execution_count": 3,
   "metadata": {},
   "outputs": [],
   "source": [
    "m = tnn.ConvTranspose2d(100, 64, 4, 1, 0, bias=False)\n",
    "inp = agrad.Variable(torch.randn(1, 100, 1, 1))"
   ]
  },
  {
   "cell_type": "code",
   "execution_count": 4,
   "metadata": {},
   "outputs": [
    {
     "name": "stdout",
     "output_type": "stream",
     "text": [
      "first\t torch.Size([1, 64, 4, 4])\nsecond\t torch.Size([1, 64, 8, 8])\nthird\t torch.Size([1, 32, 20, 20])\n"
     ]
    }
   ],
   "source": [
    "output = m(inp)\n",
    "print('first\\t', output.size())\n",
    "m1 = tnn.ConvTranspose2d(64, 64, 4, 2, 1, bias=False)\n",
    "output = m1(output)\n",
    "print('second\\t', output.size())\n",
    "m2 = tnn.ConvTranspose2d(64, 32, 5, 3, 3, bias=False)\n",
    "output = m2(output)\n",
    "print('third\\t', output.size())\n",
    "\n",
    "\n"
   ]
  },
  {
   "cell_type": "code",
   "execution_count": 5,
   "metadata": {},
   "outputs": [
    {
     "name": "stdout",
     "output_type": "stream",
     "text": [
      "torch.Size([1, 133, 1, 1])\n"
     ]
    }
   ],
   "source": [
    "c = agrad.Variable(torch.randn(1, 33, 1, 1))\n",
    "a = torch.cat((inp, c), 1)\n",
    "print(a.size())"
   ]
  },
  {
   "cell_type": "code",
   "execution_count": 9,
   "metadata": {},
   "outputs": [
    {
     "name": "stdout",
     "output_type": "stream",
     "text": [
      "torch.Size([10, 1, 1, 1])\ntorch.Size([10])\n"
     ]
    }
   ],
   "source": [
    "n_features = 64\n",
    "D_in = agrad.Variable(torch.randn(10, 1, 32, 32))\n",
    "D_net = tnn.Sequential(\n",
    "            # input signals 1 x 32 x 32\n",
    "            tnn.Conv2d(1, n_features, 4, 2, 1, bias=False),\n",
    "            # n_features x 16 x 16\n",
    "            tnn.Conv2d(n_features, n_features * 2, 4, 2, 1, bias=False),\n",
    "            # n_features * 2 x 8 x 8\n",
    "            tnn.Conv2d(n_features * 2, n_features * 4, 4, 2, 1, bias=False),\n",
    "            # n_features * 4 x 4 x 4\n",
    "            tnn.Conv2d(n_features * 4, 1, 4, 1, 0, bias=False),\n",
    "            tnn.Sigmoid(),\n",
    "        )\n",
    "D_out = D_net(D_in)\n",
    "print(D_out.size())\n",
    "print(D_out.view(-1, 1).squeeze(1).size())"
   ]
  },
  {
   "cell_type": "code",
   "execution_count": null,
   "metadata": {},
   "outputs": [],
   "source": []
  }
 ],
 "metadata": {
  "kernelspec": {
   "display_name": "Python 2",
   "language": "python",
   "name": "python2"
  },
  "language_info": {
   "codemirror_mode": {
    "name": "ipython",
    "version": 2
   },
   "file_extension": ".py",
   "mimetype": "text/x-python",
   "name": "python",
   "nbconvert_exporter": "python",
   "pygments_lexer": "ipython2",
   "version": "2.7.6"
  }
 },
 "nbformat": 4,
 "nbformat_minor": 0
}
